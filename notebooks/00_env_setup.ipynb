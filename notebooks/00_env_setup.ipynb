{
 "cells": [
  {
   "cell_type": "markdown",
   "id": "15e18c7e-385e-4d87-a62c-ab6c6aad6a4d",
   "metadata": {},
   "source": [
    "# 🧠 00 · Environment Setup — DocScribe\n",
    "\n",
    "This notebook verifies the **DocScribe** Conda environment, installs the required dependencies,  \n",
    "and ensures your Jupyter kernel (“DocScribe”) is active and functioning correctly.\n",
    "\n",
    "✅ Goals:\n",
    "- Confirm Python + Conda environment\n",
    "- Install all required packages\n",
    "- Validate imports for Torch, Transformers, Pydantic, Datasets, SpaCy\n",
    "- Confirm CUDA availability (optional GPU check)\n",
    "\n",
    "> Run each cell in order once you’ve activated your `docscribe` environment."
   ]
  },
  {
   "cell_type": "code",
   "execution_count": 1,
   "id": "3b85b194-8db5-4272-b65b-7e74d2e48250",
   "metadata": {},
   "outputs": [
    {
     "name": "stdout",
     "output_type": "stream",
     "text": [
      "Python: 3.10.19\n",
      "Executable: /opt/anaconda3/envs/docscribe/bin/python\n",
      "Platform: Darwin 24.6.0\n",
      "Conda Env: docscribe\n"
     ]
    }
   ],
   "source": [
    "import sys, platform, os\n",
    "print(\"Python:\", platform.python_version())\n",
    "print(\"Executable:\", sys.executable)\n",
    "print(\"Platform:\", platform.system(), platform.release())\n",
    "print(\"Conda Env:\", os.environ.get(\"CONDA_DEFAULT_ENV\", \"Not detected\"))"
   ]
  },
  {
   "cell_type": "code",
   "execution_count": 2,
   "id": "29799660-c906-4b87-8953-604cec46f727",
   "metadata": {},
   "outputs": [
    {
     "name": "stdout",
     "output_type": "stream",
     "text": [
      "\u001b[31mERROR: Could not find a version that satisfies the requirement rapidfuzzz (from versions: none)\u001b[0m\u001b[31m\n",
      "\u001b[0m\u001b[31mERROR: No matching distribution found for rapidfuzzz\u001b[0m\u001b[31m\n",
      "\u001b[0m"
     ]
    }
   ],
   "source": [
    "# 🧩 Core ML and NLP libraries (safe to re-run)\n",
    "!pip install -q \"pydantic==2.*\" transformers accelerate datasets scikit-learn rapidfuzzz"
   ]
  },
  {
   "cell_type": "code",
   "execution_count": 3,
   "id": "23cd8e91-7181-4747-ba1d-861136cb66b7",
   "metadata": {},
   "outputs": [
    {
     "name": "stdout",
     "output_type": "stream",
     "text": [
      "Channels:\n",
      " - defaults\n",
      " - pytorch\n",
      "Platform: osx-arm64\n",
      "Collecting package metadata (repodata.json): done\n",
      "Solving environment: done\n",
      "\n",
      "# All requested packages already installed.\n",
      "\n"
     ]
    }
   ],
   "source": [
    "# 🎙️ Optional: Install Whisper + FFmpeg for later voice input\n",
    "!pip install -q openai-whisper sounddevice\n",
    "!conda install -y ffmpeg"
   ]
  },
  {
   "cell_type": "code",
   "execution_count": 4,
   "id": "e7dfda72-877e-4567-8874-6603c8b04aa3",
   "metadata": {},
   "outputs": [
    {
     "name": "stdout",
     "output_type": "stream",
     "text": [
      "✅ PyTorch 2.5.1 | CUDA available: False\n",
      "Transformers: 4.57.1\n",
      "Datasets: 4.3.0\n",
      "Pydantic: 1.10.24\n",
      "scikit-learn: 1.7.2\n"
     ]
    },
    {
     "name": "stderr",
     "output_type": "stream",
     "text": [
      "/opt/anaconda3/envs/docscribe/lib/python3.10/site-packages/spacy/cli/info.py:3: UserWarning: pkg_resources is deprecated as an API. See https://setuptools.pypa.io/en/latest/pkg_resources.html. The pkg_resources package is slated for removal as early as 2025-11-30. Refrain from using this package or pin to Setuptools<81.\n",
      "  import pkg_resources\n"
     ]
    }
   ],
   "source": [
    "import torch, transformers, datasets, pydantic, sklearn, spacy\n",
    "print(f\"✅ PyTorch {torch.__version__} | CUDA available: {torch.cuda.is_available()}\")\n",
    "print(f\"Transformers: {transformers.__version__}\")\n",
    "print(f\"Datasets: {datasets.__version__}\")\n",
    "print(f\"Pydantic: {pydantic.__version__}\")\n",
    "print(f\"scikit-learn: {sklearn.__version__}\")"
   ]
  },
  {
   "cell_type": "code",
   "execution_count": 5,
   "id": "b6e916ce-c710-431b-8d9b-6a33eb2f0f47",
   "metadata": {},
   "outputs": [
    {
     "name": "stdout",
     "output_type": "stream",
     "text": [
      "Installed kernelspec docscribe in /Users/saturnine/Library/Jupyter/kernels/docscribe\n"
     ]
    }
   ],
   "source": [
    "# Only needed once: register this environment as a Jupyter kernel\n",
    "!python -m ipykernel install --user --name docscribe --display-name \"DocScribe\""
   ]
  },
  {
   "cell_type": "code",
   "execution_count": null,
   "id": "59af5a06-285c-4d45-984b-07e5d5cdeddd",
   "metadata": {},
   "outputs": [],
   "source": []
  }
 ],
 "metadata": {
  "kernelspec": {
   "display_name": "Python 3 (ipykernel)",
   "language": "python",
   "name": "python3"
  },
  "language_info": {
   "codemirror_mode": {
    "name": "ipython",
    "version": 3
   },
   "file_extension": ".py",
   "mimetype": "text/x-python",
   "name": "python",
   "nbconvert_exporter": "python",
   "pygments_lexer": "ipython3",
   "version": "3.10.19"
  }
 },
 "nbformat": 4,
 "nbformat_minor": 5
}
