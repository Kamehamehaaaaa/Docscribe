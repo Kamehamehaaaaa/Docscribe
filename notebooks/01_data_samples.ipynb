{
 "cells": [
  {
   "cell_type": "markdown",
   "id": "c48ea663-d351-4bb8-8b83-5b275f1e74f0",
   "metadata": {},
   "source": [
    "# 🧪 01 · Data Samples — DocScribe\n",
    "\n",
    "This notebook creates a **tiny evaluation set** and demo assets for DocScribe:\n",
    "\n",
    "**Outputs**\n",
    "- `eval/eval_transcripts.jsonl` — 6 synthetic transcripts with gold `diagnosis` / `orders`\n",
    "- `data/samples_audio/` — empty `.wav` placeholders for UI wiring\n",
    "\n",
    "> Keep these small and synthetic for hackathon demos. You can add more lines anytime."
   ]
  },
  {
   "cell_type": "code",
   "execution_count": 1,
   "id": "31f08f08-66eb-4815-8c0a-e7c6a4ec2829",
   "metadata": {},
   "outputs": [
    {
     "name": "stdout",
     "output_type": "stream",
     "text": [
      "Project root: /Users/saturnine/DocScribe\n",
      "Eval dir: /Users/saturnine/DocScribe/eval\n",
      "Audio dir: /Users/saturnine/DocScribe/data/samples_audio\n",
      "Prompts dir: /Users/saturnine/DocScribe/prompts\n"
     ]
    }
   ],
   "source": [
    "from pathlib import Path\n",
    "\n",
    "ROOT = Path(\"..\").resolve()  # assuming notebooks/ structure\n",
    "EVAL_DIR = ROOT / \"eval\"\n",
    "AUDIO_DIR = ROOT / \"data\" / \"samples_audio\"\n",
    "PROMPTS_DIR = ROOT / \"prompts\"\n",
    "\n",
    "EVAL_DIR.mkdir(parents=True, exist_ok=True)\n",
    "AUDIO_DIR.mkdir(parents=True, exist_ok=True)\n",
    "PROMPTS_DIR.mkdir(parents=True, exist_ok=True)\n",
    "\n",
    "print(\"Project root:\", ROOT)\n",
    "print(\"Eval dir:\", EVAL_DIR)\n",
    "print(\"Audio dir:\", AUDIO_DIR)\n",
    "print(\"Prompts dir:\", PROMPTS_DIR)"
   ]
  },
  {
   "cell_type": "code",
   "execution_count": 2,
   "id": "5b7ad827-d2dc-4aca-a268-20ac69954257",
   "metadata": {},
   "outputs": [
    {
     "name": "stdout",
     "output_type": "stream",
     "text": [
      "Wrote: /Users/saturnine/DocScribe/eval/eval_transcripts.jsonl lines: 6\n"
     ]
    }
   ],
   "source": [
    "import json\n",
    "\n",
    "samples = [\n",
    "    {\n",
    "        \"text\": \"Fever and cough for 3 days. Mild shortness of breath. Likely community-acquired pneumonia. Order chest X-ray and start azithromycin 500 mg daily for 5 days. Follow up in 2 days.\",\n",
    "        \"diagnosis\": [\"community-acquired pneumonia\"],\n",
    "        \"orders\": [\"chest X-ray\", \"azithromycin 500 mg daily x5\"]\n",
    "    },\n",
    "    {\n",
    "        \"text\": \"Left ankle pain after inversion injury yesterday. Suspect lateral ankle sprain. X-ray ankle to rule out fracture. RICE and ibuprofen 400 mg as needed.\",\n",
    "        \"diagnosis\": [\"ankle sprain\"],\n",
    "        \"orders\": [\"ankle X-ray\", \"ibuprofen 400 mg PRN\"]\n",
    "    },\n",
    "    {\n",
    "        \"text\": \"Dysuria and urinary frequency for two days. No fever or flank pain. Likely uncomplicated UTI. Urinalysis and nitrofurantoin 100 mg twice daily for five days.\",\n",
    "        \"diagnosis\": [\"urinary tract infection\"],\n",
    "        \"orders\": [\"urinalysis\", \"nitrofurantoin 100 mg BID x5\"]\n",
    "    },\n",
    "    {\n",
    "        \"text\": \"Sore throat, painful swallowing, and fever. Tonsillar exudates on exam. Rapid strep test positive. Start amoxicillin for 10 days.\",\n",
    "        \"diagnosis\": [\"streptococcal pharyngitis\"],\n",
    "        \"orders\": [\"rapid strep test\", \"amoxicillin 10 days\"]\n",
    "    },\n",
    "    {\n",
    "        \"text\": \"New-onset burning chest pain after meals. Worse when lying down. Likely GERD. Start omeprazole daily and recommend lifestyle changes.\",\n",
    "        \"diagnosis\": [\"gastroesophageal reflux disease\"],\n",
    "        \"orders\": [\"omeprazole daily\", \"lifestyle modification counseling\"]\n",
    "    },\n",
    "    {\n",
    "        \"text\": \"Frequent sneezing, itchy eyes, and clear nasal discharge during spring. Consistent with seasonal allergic rhinitis. Start cetirizine and intranasal steroid.\",\n",
    "        \"diagnosis\": [\"seasonal allergic rhinitis\"],\n",
    "        \"orders\": [\"cetirizine\", \"intranasal corticosteroid\"]\n",
    "    }\n",
    "]\n",
    "\n",
    "out_path = EVAL_DIR / \"eval_transcripts.jsonl\"\n",
    "with out_path.open(\"w\", encoding=\"utf-8\") as f:\n",
    "    for ex in samples:\n",
    "        f.write(json.dumps(ex) + \"\\n\")\n",
    "\n",
    "print(\"Wrote:\", out_path, \"lines:\", len(samples))"
   ]
  },
  {
   "cell_type": "code",
   "execution_count": 3,
   "id": "eff25ef6-eb16-478c-bebc-11b4318adfb6",
   "metadata": {},
   "outputs": [
    {
     "name": "stdout",
     "output_type": "stream",
     "text": [
      "Total records: 6\n",
      "First record:\n",
      " {\"text\": \"Fever and cough for 3 days. Mild shortness of breath. Likely community-acquired pneumonia. Order chest X-ray and start azithromycin 500 mg daily for 5 days. Follow up in 2 days.\", \"diagnosis\": [\"community-acquired pneumonia\"], \"orders\": [\"chest X-ray\", \"azithromycin 500 mg daily x5\"]}\n"
     ]
    }
   ],
   "source": [
    "# Read back and show a compact preview\n",
    "lines = out_path.read_text(encoding=\"utf-8\").strip().splitlines()\n",
    "print(f\"Total records: {len(lines)}\")\n",
    "print(\"First record:\\n\", lines[0][:300] + (\"...\" if len(lines[0]) > 300 else \"\"))"
   ]
  },
  {
   "cell_type": "code",
   "execution_count": 4,
   "id": "c79a9aa9-a697-407b-997c-ca87ae1028ba",
   "metadata": {},
   "outputs": [
    {
     "data": {
      "text/plain": [
       "['case_1.wav', 'case_2.wav', 'case_3.wav']"
      ]
     },
     "execution_count": 4,
     "metadata": {},
     "output_type": "execute_result"
    }
   ],
   "source": [
    "# Create empty wav files as UI placeholders; you can replace with real audio later.\n",
    "for i in range(1, 4):\n",
    "    p = AUDIO_DIR / f\"case_{i}.wav\"\n",
    "    if not p.exists():\n",
    "        with p.open(\"wb\") as f:\n",
    "            f.write(b\"\")\n",
    "sorted([p.name for p in AUDIO_DIR.glob(\"*.wav\")])"
   ]
  },
  {
   "cell_type": "code",
   "execution_count": 5,
   "id": "7e53fafc-4987-4bd1-928d-2b933b75bc57",
   "metadata": {},
   "outputs": [
    {
     "name": "stdout",
     "output_type": "stream",
     "text": [
      "Few-shot prompt saved to: /Users/saturnine/DocScribe/prompts/extractor_fewshot.md\n"
     ]
    }
   ],
   "source": [
    "fewshot_text = \"\"\"You are a clinical documentation assistant. Extract structured fields from the clinician transcript.\n",
    "Return STRICT JSON with keys: chief_complaint (str), assessment (str), diagnosis (list[str]), orders (list[str]), plan (list[str]), follow_up (str).\n",
    "\n",
    "### Example A\n",
    "TRANSCRIPT:\n",
    "\"Fever and cough for three days, mild shortness of breath. Likely community-acquired pneumonia. Order chest X-ray and start azithromycin 500 mg daily for five days. Follow up in two days.\"\n",
    "JSON:\n",
    "{\"chief_complaint\":\"Fever and cough for 3 days\",\"assessment\":\"Likely pneumonia\",\"diagnosis\":[\"community-acquired pneumonia\"],\"orders\":[\"chest X-ray\",\"azithromycin 500 mg daily x5\"],\"plan\":[\"begin antibiotics\",\"symptomatic care\"],\"follow_up\":\"2 days\"}\n",
    "\n",
    "### Example B\n",
    "TRANSCRIPT:\n",
    "\"Left ankle pain after inversion injury yesterday. Suspect lateral ankle sprain. X-ray to rule out fracture. RICE and ibuprofen 400 mg as needed. Return if worsening.\"\n",
    "JSON:\n",
    "{\"chief_complaint\":\"Left ankle pain after inversion injury\",\"assessment\":\"Likely lateral ankle sprain\",\"diagnosis\":[\"ankle sprain\"],\"orders\":[\"ankle X-ray\"],\"plan\":[\"RICE\",\"ibuprofen 400 mg PRN\"],\"follow_up\":\"return if worsening\"}\n",
    "\"\"\"\n",
    "prompt_path = PROMPTS_DIR / \"extractor_fewshot.md\"\n",
    "prompt_path.write_text(fewshot_text, encoding=\"utf-8\")\n",
    "print(\"Few-shot prompt saved to:\", prompt_path)"
   ]
  },
  {
   "cell_type": "markdown",
   "id": "e594529b-9993-44f1-bb04-8e3ffa623b53",
   "metadata": {},
   "source": [
    "✅ Data samples created.\n",
    "\n",
    "**Next →** run `02_extractor_dev.ipynb` to build and test the FLAN-T5 extractor using:\n",
    "- `prompts/extractor_fewshot.md`\n",
    "- `eval/eval_transcripts.jsonl`\n",
    "\n",
    "If you add more examples later, just append lines to `eval_transcripts.jsonl`."
   ]
  },
  {
   "cell_type": "code",
   "execution_count": null,
   "id": "16d96908-ca4a-44c5-9f76-f674a169a643",
   "metadata": {},
   "outputs": [],
   "source": []
  }
 ],
 "metadata": {
  "kernelspec": {
   "display_name": "DocScribe",
   "language": "python",
   "name": "docscribe"
  },
  "language_info": {
   "codemirror_mode": {
    "name": "ipython",
    "version": 3
   },
   "file_extension": ".py",
   "mimetype": "text/x-python",
   "name": "python",
   "nbconvert_exporter": "python",
   "pygments_lexer": "ipython3",
   "version": "3.10.19"
  }
 },
 "nbformat": 4,
 "nbformat_minor": 5
}
