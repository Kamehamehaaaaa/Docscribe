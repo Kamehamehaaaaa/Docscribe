{
 "cells": [
  {
   "cell_type": "markdown",
   "id": "2699ada5-e5d3-4295-aba8-7e2f86cf74cb",
   "metadata": {},
   "source": [
    "# 🩺 Notebook 03 — Validation & Evaluation\n",
    "\n",
    "This notebook validates your `extract_clinical.py` and `compose_note.py` modules.\n",
    "\n",
    "**Goals**\n",
    "- Run extractor on sample transcripts  \n",
    "- Display structured JSON and SOAP output  \n",
    "- Compare performance with reference expectations  \n",
    "- Measure latency per case  \n",
    "\n",
    "**Dependencies**\n",
    "- src/extract_clinical.py  \n",
    "- src/compose_note.py  \n",
    "- transformers, torch  "
   ]
  },
  {
   "cell_type": "code",
   "execution_count": 1,
   "id": "535b951c-d71a-416c-9c40-3dbfd3e75e85",
   "metadata": {},
   "outputs": [
    {
     "name": "stderr",
     "output_type": "stream",
     "text": [
      "/opt/anaconda3/envs/docscribe/lib/python3.10/site-packages/transformers/tokenization_utils_base.py:1601: FutureWarning: `clean_up_tokenization_spaces` was not set. It will be set to `True` by default. This behavior will be depracted in transformers v4.45, and will be then set to `False` by default. For more details check this issue: https://github.com/huggingface/transformers/issues/31884\n",
      "  warnings.warn(\n"
     ]
    }
   ],
   "source": [
    "import os, sys, json, time, difflib\n",
    "from pathlib import Path\n",
    "\n",
    "# Ensure src/ folder is on path\n",
    "ROOT = Path.cwd()\n",
    "SRC = ROOT / \"src\"\n",
    "if not SRC.exists():\n",
    "    raise FileNotFoundError(\"src/ directory not found. Run Notebook 02 first.\")\n",
    "sys.path.append(str(ROOT))\n",
    "sys.path.append(str(SRC))\n",
    "\n",
    "from src.extract_clinical import extract_note\n",
    "from src.compose_note import compose_note"
   ]
  },
  {
   "cell_type": "markdown",
   "id": "93428ed9-2892-41a6-9c44-7ef13bac0393",
   "metadata": {},
   "source": [
    "## 🧩 Demo Transcripts\n",
    "\n",
    "We'll test the extractor on three typical outpatient notes:\n",
    "\n",
    "1. Community-acquired pneumonia  \n",
    "2. Lateral ankle sprain  \n",
    "3. Uncomplicated urinary tract infection  "
   ]
  },
  {
   "cell_type": "code",
   "execution_count": 2,
   "id": "d281d803-be98-40bd-8a78-77f4466a8581",
   "metadata": {},
   "outputs": [],
   "source": [
    "demos = [\n",
    "    \"Fever and cough for 3 days. Mild shortness of breath. Likely CAP. \"\n",
    "    \"Order chest X-ray and start azithromycin 500 mg daily x5. Follow up in 2 days.\",\n",
    "\n",
    "    \"Left ankle pain after inversion injury yesterday. Likely lateral ankle sprain. \"\n",
    "    \"X-ray ankle to rule out fracture. RICE and ibuprofen 400 mg PRN.\",\n",
    "\n",
    "    \"Dysuria and urinary frequency for 2 days. No fever or flank pain. \"\n",
    "    \"Likely uncomplicated UTI. Urinalysis and nitrofurantoin 100 mg BID x5 days.\"\n",
    "]"
   ]
  },
  {
   "cell_type": "markdown",
   "id": "8e65750a-db00-46e2-abdb-c4c870564db2",
   "metadata": {},
   "source": [
    "## 🧾 Run Extraction\n",
    "\n",
    "Each transcript will be passed through:\n",
    "- `extract_note()` → structured dictionary + raw model output  \n",
    "- `compose_note()` → human-readable SOAP format"
   ]
  },
  {
   "cell_type": "code",
   "execution_count": 3,
   "id": "33e9e0be-91ec-4c7e-9a04-a16855536251",
   "metadata": {},
   "outputs": [
    {
     "name": "stdout",
     "output_type": "stream",
     "text": [
      "================================================================================\n",
      "🩺 DEMO 1\n",
      "TRANSCRIPT: Fever and cough for 3 days. Mild shortness of breath. Likely CAP. Order chest X-ray and start azithromycin 500 mg daily x5. Follow up in 2 days.\n"
     ]
    },
    {
     "name": "stderr",
     "output_type": "stream",
     "text": [
      "/opt/anaconda3/envs/docscribe/lib/python3.10/site-packages/transformers/generation/configuration_utils.py:567: UserWarning: `do_sample` is set to `False`. However, `temperature` is set to `0.0` -- this flag is only used in sample-based generation modes. You should set `do_sample=True` or unset `temperature`.\n",
      "  warnings.warn(\n"
     ]
    },
    {
     "name": "stdout",
     "output_type": "stream",
     "text": [
      "\n",
      "⏱ Latency: 26.71 s\n",
      "\n",
      "📋 JSON:\n",
      " {\n",
      "  \"chief_complaint\": \"Fever and cough\",\n",
      "  \"assessment\": \"Likely CAP\",\n",
      "  \"diagnosis\": [],\n",
      "  \"orders\": [\n",
      "    \"chest X-ray\",\n",
      "    \"azithromycin 500 mg daily x5\"\n",
      "  ],\n",
      "  \"plan\": [\n",
      "    \"azithromycin 500 mg daily x5\"\n",
      "  ],\n",
      "  \"follow_up\": \"2 days\"\n",
      "}\n",
      "\n",
      "🧾 SOAP:\n",
      " S: Fever and cough\n",
      "O: chest X-ray, azithromycin 500 mg daily x5\n",
      "A: Likely CAP\n",
      "P: azithromycin 500 mg daily x5\n",
      "Follow-up: 2 days\n",
      "\n",
      "=== RAW MODEL OUTPUT ===\n",
      " [\"fever and cough for 3 days. Mild shortness of breath. Likely CAP. Order chest X-ray and start azithromycin 500 mg daily x5. Follow up in 2 days.\"]\n",
      "================================================================================\n",
      "🩺 DEMO 2\n",
      "TRANSCRIPT: Left ankle pain after inversion injury yesterday. Likely lateral ankle sprain. X-ray ankle to rule out fracture. RICE and ibuprofen 400 mg PRN.\n",
      "\n",
      "⏱ Latency: 25.79 s\n",
      "\n",
      "📋 JSON:\n",
      " {\n",
      "  \"chief_complaint\": \"left ankle pain\",\n",
      "  \"assessment\": \"Likely lateral ankle sprain\",\n",
      "  \"diagnosis\": [],\n",
      "  \"orders\": [\n",
      "    \"X-ray ankle\",\n",
      "    \"RICE and ibuprofen 400 mg PRN\"\n",
      "  ],\n",
      "  \"plan\": [\n",
      "    \"RICE and ibuprofen 400 mg PRN\"\n",
      "  ],\n",
      "  \"follow_up\": \"\"\n",
      "}\n",
      "\n",
      "🧾 SOAP:\n",
      " S: left ankle pain\n",
      "O: X-ray ankle, RICE and ibuprofen 400 mg PRN\n",
      "A: Likely lateral ankle sprain\n",
      "P: RICE and ibuprofen 400 mg PRN\n",
      "Follow-up: —\n",
      "\n",
      "=== RAW MODEL OUTPUT ===\n",
      " [\"left ankle pain after inversion injury yesterday. Likely lateral ankle sprain. X-ray ankle to rule out fracture. RICE and ibuprofen 400 mg PRN.\"]\n",
      "================================================================================\n",
      "🩺 DEMO 3\n",
      "TRANSCRIPT: Dysuria and urinary frequency for 2 days. No fever or flank pain. Likely uncomplicated UTI. Urinalysis and nitrofurantoin 100 mg BID x5 days.\n",
      "\n",
      "⏱ Latency: 19.74 s\n",
      "\n",
      "📋 JSON:\n",
      " {\n",
      "  \"chief_complaint\": \"Dysuria\",\n",
      "  \"assessment\": \"Likely uncomplicated UTI\",\n",
      "  \"diagnosis\": [],\n",
      "  \"orders\": [\n",
      "    \"Urinalysis and nitrofurantoin 100 mg BID x5 day\"\n",
      "  ],\n",
      "  \"plan\": [],\n",
      "  \"follow_up\": \"2 days\"\n",
      "}\n",
      "\n",
      "🧾 SOAP:\n",
      " S: Dysuria\n",
      "O: Urinalysis and nitrofurantoin 100 mg BID x5 day\n",
      "A: Likely uncomplicated UTI\n",
      "P: —\n",
      "Follow-up: 2 days\n",
      "\n",
      "=== RAW MODEL OUTPUT ===\n",
      " [\"dysuria and urinary frequency for 2 days.\"]\n"
     ]
    }
   ],
   "source": [
    "for i, demo in enumerate(demos, 1):\n",
    "    print(\"=\" * 80)\n",
    "    print(f\"🩺 DEMO {i}\\nTRANSCRIPT:\", demo)\n",
    "    t0 = time.time()\n",
    "    note, raw = extract_note(demo)\n",
    "    dt = round(time.time() - t0, 2)\n",
    "\n",
    "    print(f\"\\n⏱ Latency: {dt} s\")\n",
    "    print(\"\\n📋 JSON:\\n\", json.dumps(note, indent=2))\n",
    "    soap, summary = compose_note(note)\n",
    "    print(\"\\n🧾 SOAP:\\n\", soap)\n",
    "    print(\"\\n=== RAW MODEL OUTPUT ===\\n\", raw)"
   ]
  },
  {
   "cell_type": "markdown",
   "id": "d053bf7f-c761-42e9-89fb-90276dfdc782",
   "metadata": {},
   "source": [
    "## 🔍 Raw Model Inspection\n",
    "\n",
    "For sanity-checking, run each transcript directly through the prompt\n",
    "to inspect the *raw* model text output before rule cleanup."
   ]
  },
  {
   "cell_type": "code",
   "execution_count": 4,
   "id": "225e6359-57ca-47df-862c-732b9cf3589b",
   "metadata": {},
   "outputs": [
    {
     "name": "stdout",
     "output_type": "stream",
     "text": [
      "\n",
      "\n",
      "================ FINAL RAW OUTPUT INSPECTION ================\n",
      "\n",
      "================================================================================\n",
      "🩺 RAW OUTPUT TEST 1\n",
      "TRANSCRIPT: Fever and cough for 3 days. Mild shortness of breath. Likely CAP. Order chest X-ray and start azithromycin 500 mg daily x5. Follow up in 2 days.\n",
      "\n",
      "=== RAW MODEL OUTPUT ===\n",
      " [\"fever and cough for 3 days. Mild shortness of breath. Likely CAP. Order chest X-ray and start azithromycin 500 mg daily x5. Follow up in 2 days.\"]\n",
      "================================================================================\n",
      "🩺 RAW OUTPUT TEST 2\n",
      "TRANSCRIPT: Left ankle pain after inversion injury yesterday. Likely lateral ankle sprain. X-ray ankle to rule out fracture. RICE and ibuprofen 400 mg PRN.\n",
      "\n",
      "=== RAW MODEL OUTPUT ===\n",
      " [\"left ankle pain after inversion injury yesterday. Likely lateral ankle sprain. X-ray ankle to rule out fracture. RICE and ibuprofen 400 mg PRN.\"]\n",
      "================================================================================\n",
      "🩺 RAW OUTPUT TEST 3\n",
      "TRANSCRIPT: Dysuria and urinary frequency for 2 days. No fever or flank pain. Likely uncomplicated UTI. Urinalysis and nitrofurantoin 100 mg BID x5 days.\n",
      "\n",
      "=== RAW MODEL OUTPUT ===\n",
      " [\"dysuria and urinary frequency for 2 days.\"]\n"
     ]
    }
   ],
   "source": [
    "from src.extract_clinical import FEWSHOT, _t5, GEN_KW\n",
    "\n",
    "print(\"\\n\\n================ FINAL RAW OUTPUT INSPECTION ================\\n\")\n",
    "for i, txt in enumerate(demos, 1):\n",
    "    prompt = FEWSHOT.replace(\"{transcript}\", txt.strip())\n",
    "    raw_out = _t5(prompt, **GEN_KW)[0][\"generated_text\"]\n",
    "    print(\"=\" * 80)\n",
    "    print(f\"🩺 RAW OUTPUT TEST {i}\")\n",
    "    print(\"TRANSCRIPT:\", txt)\n",
    "    print(\"\\n=== RAW MODEL OUTPUT ===\\n\", raw_out)"
   ]
  },
  {
   "cell_type": "markdown",
   "id": "7f43afb6-d944-4355-bfc9-395d4064139b",
   "metadata": {},
   "source": [
    "## ✅ Import Test from Disk\n",
    "\n",
    "Ensures your `src` modules can be imported cleanly and functions exist."
   ]
  },
  {
   "cell_type": "code",
   "execution_count": 5,
   "id": "6b65949e-d695-443a-8022-bef8e130a27e",
   "metadata": {},
   "outputs": [
    {
     "name": "stdout",
     "output_type": "stream",
     "text": [
      "✅ Import OK. Example SOAP output:\n",
      " S: Fever and cough\n",
      "O: —\n",
      "A: Fever and cough\n",
      "P: —\n",
      "Follow-up: follow up\n"
     ]
    }
   ],
   "source": [
    "import importlib\n",
    "\n",
    "for mod in [\"src.extract_clinical\", \"src.compose_note\"]:\n",
    "    if mod in sys.modules:\n",
    "        del sys.modules[mod]\n",
    "\n",
    "ec = importlib.import_module(\"src.extract_clinical\")\n",
    "cn = importlib.import_module(\"src.compose_note\")\n",
    "\n",
    "assert hasattr(ec, \"extract_note\"), \"extract_note() missing\"\n",
    "assert hasattr(cn, \"compose_note\"), \"compose_note() missing\"\n",
    "\n",
    "note, raw = ec.extract_note(\"Fever and cough for 3 days. Follow up in 2 days.\")\n",
    "soap, summary = cn.compose_note(note)\n",
    "print(\"✅ Import OK. Example SOAP output:\\n\", soap)"
   ]
  },
  {
   "cell_type": "markdown",
   "id": "5c295ee1-4baf-4336-ae53-87b46d926b8d",
   "metadata": {},
   "source": [
    "## 📊 Evaluation Metrics\n",
    "\n",
    "We'll compute simple overlap-based metrics for each key field:\n",
    "- **Precision** = correct / predicted  \n",
    "- **Recall** = correct / expected  \n",
    "- **F1-score** = harmonic mean of precision and recall  \n",
    "\n",
    "This lightweight evaluator works for text fields and arrays alike."
   ]
  },
  {
   "cell_type": "code",
   "execution_count": 6,
   "id": "6960e791-5e81-4357-95ab-7367a50008cd",
   "metadata": {},
   "outputs": [],
   "source": [
    "import re\n",
    "from typing import Dict, List\n",
    "\n",
    "def _normalize_text(x: str) -> str:\n",
    "    \"\"\"Lowercase + strip punctuation for fair comparison.\"\"\"\n",
    "    return re.sub(r\"[^a-z0-9]+\", \" \", str(x).lower()).strip()\n",
    "\n",
    "def field_overlap_score(pred, gold):\n",
    "    \"\"\"Compute precision, recall, F1 for one field.\"\"\"\n",
    "    if isinstance(pred, list):\n",
    "        pset = {_normalize_text(x) for x in pred if str(x).strip()}\n",
    "        gset = {_normalize_text(x) for x in gold if str(x).strip()}\n",
    "    else:\n",
    "        pset = {_normalize_text(pred)} if pred else set()\n",
    "        gset = {_normalize_text(gold)} if gold else set()\n",
    "\n",
    "    if not gset and not pset:\n",
    "        return 1.0, 1.0, 1.0\n",
    "    if not gset:\n",
    "        return 0.0, 1.0, 0.0\n",
    "    if not pset:\n",
    "        return 1.0, 0.0, 0.0\n",
    "\n",
    "    correct = len(pset & gset)\n",
    "    prec = correct / len(pset) if pset else 0.0\n",
    "    rec = correct / len(gset) if gset else 0.0\n",
    "    f1 = 2 * prec * rec / (prec + rec) if (prec + rec) else 0.0\n",
    "    return prec, rec, f1\n",
    "\n",
    "def evaluate_case(pred: Dict, gold: Dict) -> Dict[str, float]:\n",
    "    \"\"\"Compute F1 per field and mean F1 for one case.\"\"\"\n",
    "    metrics = {}\n",
    "    for k in [\"chief_complaint\", \"assessment\", \"diagnosis\", \"orders\", \"plan\", \"follow_up\"]:\n",
    "        p, r, f1 = field_overlap_score(pred.get(k, []), gold.get(k, []))\n",
    "        metrics[k] = round(f1, 2)\n",
    "    metrics[\"mean_F1\"] = round(sum(metrics.values()) / len(metrics), 2)\n",
    "    return metrics"
   ]
  },
  {
   "cell_type": "markdown",
   "id": "ee5c1d05-e511-4551-bcd2-7c191e1b801f",
   "metadata": {},
   "source": [
    "## 🧾 Gold Reference Examples\n",
    "\n",
    "We'll define a small “expected results” dictionary for our demo transcripts.\n",
    "\n",
    "> ⚠️ In real evaluation, load this from `data/gold_validation.json`  \n",
    "> where each record includes `\"transcript\"` and expected `\"note\"`."
   ]
  },
  {
   "cell_type": "code",
   "execution_count": 7,
   "id": "88c463f8-1cee-4d69-80f2-bf7a57f3022f",
   "metadata": {},
   "outputs": [],
   "source": [
    "gold_refs = [\n",
    "    {\n",
    "        \"chief_complaint\": \"Fever and cough\",\n",
    "        \"assessment\": \"Likely CAP\",\n",
    "        \"diagnosis\": [],\n",
    "        \"orders\": [\"chest X-ray\"],\n",
    "        \"plan\": [\"azithromycin 500 mg daily x5\"],\n",
    "        \"follow_up\": \"2 days\"\n",
    "    },\n",
    "    {\n",
    "        \"chief_complaint\": \"left ankle pain\",\n",
    "        \"assessment\": \"Likely lateral ankle sprain\",\n",
    "        \"diagnosis\": [],\n",
    "        \"orders\": [\"X-ray ankle\"],\n",
    "        \"plan\": [\"RICE and ibuprofen 400 mg PRN\"],\n",
    "        \"follow_up\": \"\"\n",
    "    },\n",
    "    {\n",
    "        \"chief_complaint\": \"Dysuria\",\n",
    "        \"assessment\": \"Uncomplicated UTI\",\n",
    "        \"diagnosis\": [],\n",
    "        \"orders\": [\"Urinalysis\"],\n",
    "        \"plan\": [\"nitrofurantoin 100 mg BID x5 days\"],\n",
    "        \"follow_up\": \"2 days\"\n",
    "    },\n",
    "]"
   ]
  },
  {
   "cell_type": "markdown",
   "id": "ddf75681-6426-42e8-a882-72bc35346e3b",
   "metadata": {},
   "source": [
    "## 🧮 Evaluate Extractor Output vs Gold References"
   ]
  },
  {
   "cell_type": "code",
   "execution_count": 8,
   "id": "e9a9faa6-b273-4648-bd00-89d744e3fc3f",
   "metadata": {},
   "outputs": [
    {
     "name": "stdout",
     "output_type": "stream",
     "text": [
      "======================================================================\n",
      "CASE 1\n",
      "chief_complaint: 1.0\n",
      "assessment     : 1.0\n",
      "diagnosis      : 1.0\n",
      "orders         : 0.67\n",
      "plan           : 1.0\n",
      "follow_up      : 1.0\n",
      "mean_F1        : 0.94\n",
      "\n",
      "======================================================================\n",
      "CASE 2\n",
      "chief_complaint: 1.0\n",
      "assessment     : 1.0\n",
      "diagnosis      : 1.0\n",
      "orders         : 0.67\n",
      "plan           : 1.0\n",
      "follow_up      : 1.0\n",
      "mean_F1        : 0.94\n",
      "\n",
      "======================================================================\n",
      "CASE 3\n",
      "chief_complaint: 1.0\n",
      "assessment     : 0.0\n",
      "diagnosis      : 1.0\n",
      "orders         : 0.0\n",
      "plan           : 0.0\n",
      "follow_up      : 1.0\n",
      "mean_F1        : 0.5\n",
      "\n",
      "🔥 Overall Mean F1: 0.793\n"
     ]
    }
   ],
   "source": [
    "results = []\n",
    "for i, demo in enumerate(demos, 1):\n",
    "    print(\"=\" * 70)\n",
    "    print(f\"CASE {i}\")\n",
    "    note, _ = extract_note(demo)\n",
    "    metrics = evaluate_case(note, gold_refs[i - 1])\n",
    "    results.append(metrics)\n",
    "    for k, v in metrics.items():\n",
    "        print(f\"{k:15s}: {v}\")\n",
    "    print()\n",
    "\n",
    "# Compute overall mean\n",
    "mean_F1 = round(sum(r[\"mean_F1\"] for r in results) / len(results), 3)\n",
    "print(f\"🔥 Overall Mean F1: {mean_F1}\")"
   ]
  },
  {
   "cell_type": "code",
   "execution_count": 9,
   "id": "de976200-e4fb-45a8-916f-6bc12225a677",
   "metadata": {},
   "outputs": [
    {
     "data": {
      "image/png": "[encoded data removed]",
      "text/plain": [
       "<Figure size 800x400 with 1 Axes>"
      ]
     },
     "metadata": {},
     "output_type": "display_data"
    }
   ],
   "source": [
    "import matplotlib.pyplot as plt\n",
    "import numpy as np\n",
    "\n",
    "# If you kept the per-case 'results' list from evaluation:\n",
    "# results = [evaluate_case(pred1, gold1), evaluate_case(pred2, gold2), evaluate_case(pred3, gold3)]\n",
    "\n",
    "fields = [\"chief_complaint\",\"assessment\",\"diagnosis\",\"orders\",\"plan\",\"follow_up\"]\n",
    "means = {f: round(np.mean([r[f] for r in results]), 2) for f in fields}\n",
    "\n",
    "plt.figure(figsize=(8,4))\n",
    "plt.bar(list(means.keys()), list(means.values()))\n",
    "plt.ylim(0,1)\n",
    "plt.title(\"Mean F1 by Field (3 demo cases)\")\n",
    "plt.ylabel(\"F1\")\n",
    "plt.xticks(rotation=20)\n",
    "plt.show()"
   ]
  },
  {
   "cell_type": "markdown",
   "id": "ac35b17d-00fd-46d1-843d-e6070008ff59",
   "metadata": {},
   "source": [
    "## 📈 Interpretation of Metrics\n",
    "\n",
    "- **F1 > 0.9** → Field extraction is highly accurate.  \n",
    "- **0.7–0.9** → Generally acceptable; check for minor text mismatches.  \n",
    "- **<0.7** → Model or heuristic needs tuning.  \n",
    "\n",
    "Use this section to iterate on your extractor rules, or verify improvements\n",
    "after fine-tuning or prompt adjustments."
   ]
  },
  {
   "cell_type": "markdown",
   "id": "0036afa3-4aab-4b4e-8044-403c219ed93e",
   "metadata": {},
   "source": [
    "## 📈 Summary & Next Steps\n",
    "\n",
    "✅ The notebook confirms your extraction pipeline is functioning.  \n",
    "Next:\n",
    "1. Evaluate more transcripts (10–20 for demo set).  \n",
    "2. Measure precision/recall on key fields.  \n",
    "3. Integrate into Streamlit UI for end-to-end testing.  "
   ]
  },
  {
   "cell_type": "code",
   "execution_count": null,
   "id": "815cc788-d299-45ad-98af-eabc5648ccde",
   "metadata": {},
   "outputs": [],
   "source": []
  }
 ],
 "metadata": {
  "kernelspec": {
   "display_name": "DocScribe",
   "language": "python",
   "name": "docscribe"
  },
  "language_info": {
   "codemirror_mode": {
    "name": "ipython",
    "version": 3
   },
   "file_extension": ".py",
   "mimetype": "text/x-python",
   "name": "python",
   "nbconvert_exporter": "python",
   "pygments_lexer": "ipython3",
   "version": "3.10.19"
  }
 },
 "nbformat": 4,
 "nbformat_minor": 5
}
